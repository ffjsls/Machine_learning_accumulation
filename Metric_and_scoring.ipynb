{
 "cells": [
  {
   "cell_type": "markdown",
   "metadata": {},
   "source": [
    "本文档主要积累各种模型评估方法，包括公式解析、使用sklearn实现中使用方法、优缺点等。"
   ]
  },
  {
   "cell_type": "code",
   "execution_count": 8,
   "metadata": {
    "ExecuteTime": {
     "end_time": "2021-07-02T07:06:37.171236Z",
     "start_time": "2021-07-02T07:06:37.166241Z"
    }
   },
   "outputs": [],
   "source": [
    "from sklearn import metrics "
   ]
  },
  {
   "cell_type": "markdown",
   "metadata": {},
   "source": [
    "# 分类模型"
   ]
  },
  {
   "cell_type": "code",
   "execution_count": null,
   "metadata": {},
   "outputs": [],
   "source": []
  },
  {
   "cell_type": "markdown",
   "metadata": {},
   "source": [
    "# 回归模型"
   ]
  },
  {
   "cell_type": "markdown",
   "metadata": {},
   "source": [
    "## Explained variance score"
   ]
  },
  {
   "cell_type": "markdown",
   "metadata": {},
   "source": [
    "Explained variance score也叫解释方差，解释回归模型的方差得分，其值取值范围是[0,1]，越接近于1说明自变量越能解释因变量的方差变化，值越小则说明效果越差。公式如下所示：\n",
    "<center>$explained\\_variance(y, \\hat{y})=1-\\frac{Var(y-\\hat{y})}{Var(y)}$</center>\n",
    "使用sklearn模块实现上述算法的实例如下所示："
   ]
  },
  {
   "cell_type": "code",
   "execution_count": 9,
   "metadata": {
    "ExecuteTime": {
     "end_time": "2021-07-02T07:06:38.102283Z",
     "start_time": "2021-07-02T07:06:38.096291Z"
    }
   },
   "outputs": [
    {
     "data": {
      "text/plain": [
       "0.9571734475374732"
      ]
     },
     "execution_count": 9,
     "metadata": {},
     "output_type": "execute_result"
    }
   ],
   "source": [
    "y_true = [3, -0.5, 2, 7]\n",
    "y_pred = [2.5, 0.0, 2, 8]\n",
    "metrics.explained_variance_score(y_true, y_pred)"
   ]
  },
  {
   "cell_type": "markdown",
   "metadata": {},
   "source": [
    "当使用sklearn中的网格搜索(GridSearchCV()）、交叉验证(cross_val_score())等函数时，表示Explained variance score的字符串为**'explained_variance'**。"
   ]
  },
  {
   "cell_type": "markdown",
   "metadata": {},
   "source": [
    "## Max error"
   ]
  },
  {
   "cell_type": "markdown",
   "metadata": {},
   "source": [
    "max_error函数计算真实数据与预测数据之间的最大残差，这是一个衡量预测值和真实值之间最坏情况误差的指标。在完美拟合的单输出回归模型中，max_error为0，尽管这在现实世界中极不可能发生，但该指标显示了模型在拟合时的误差程度，公式如下所示。\n",
    "<center>$Max Error(y, \\hat{y})=max(|y_i-\\hat{y}_i|)$</center>\n",
    "使用sklearn模块实现上述算法如下所示，当使用sklearn中的网格搜索(GridSearchCV()）、交叉验证(cross_val_score())等函数时，表示Max Error的字符串为'max_error'。"
   ]
  },
  {
   "cell_type": "code",
   "execution_count": 10,
   "metadata": {
    "ExecuteTime": {
     "end_time": "2021-07-02T07:06:38.827545Z",
     "start_time": "2021-07-02T07:06:38.823547Z"
    }
   },
   "outputs": [
    {
     "data": {
      "text/plain": [
       "1.0"
      ]
     },
     "execution_count": 10,
     "metadata": {},
     "output_type": "execute_result"
    }
   ],
   "source": [
    "metrics.max_error(y_true, y_pred)"
   ]
  },
  {
   "cell_type": "markdown",
   "metadata": {},
   "source": [
    "## Mean absolute error"
   ]
  },
  {
   "cell_type": "markdown",
   "metadata": {},
   "source": [
    "Mean absolute error函数计算真实数据与预测数据的平均绝对损失，一个对用与绝对误差的期望的风险度量($l1$范数)，公式如下所示：\n",
    "<center>$MAE(y, \\hat{y})=\\frac{1}{n_{s}}\\sum\\limits_{i=1}^{n_{s}-1}|y_i-\\hat{y}_i|$</center>\n",
    "上式中，$y_i$表示真实样本，$\\hat{y}_i$表示预测样本，$n_s$表示样本数量。\n",
    "使用sklearn模块实现上述算法如下所示，当使用sklearn中的网格搜索(GridSearchCV()）、交叉验证(cross_val_score())等函数时，表示Mean absolute error的字符串为'neg_mean_absolute_error'。"
   ]
  },
  {
   "cell_type": "code",
   "execution_count": 11,
   "metadata": {
    "ExecuteTime": {
     "end_time": "2021-07-02T07:06:39.333027Z",
     "start_time": "2021-07-02T07:06:39.328032Z"
    }
   },
   "outputs": [
    {
     "data": {
      "text/plain": [
       "0.5"
      ]
     },
     "execution_count": 11,
     "metadata": {},
     "output_type": "execute_result"
    }
   ],
   "source": [
    "metrics.mean_absolute_error(y_true, y_pred)"
   ]
  },
  {
   "cell_type": "markdown",
   "metadata": {},
   "source": [
    "## Mean squared error"
   ]
  },
  {
   "cell_type": "markdown",
   "metadata": {},
   "source": [
    "Mean squared error函数计算真实数据与预测数据的均方误差，这是一个风险度量，对应于平方（二次）误差或损失的预期值, 公式如下所示：\n",
    "<center>$MSE(y, \\hat{y})=\\frac{1}{n_{s}}\\sum\\limits_{i=1}^{n_{s}-1}(y_i-\\hat{y}_i)^2$</center>\n",
    "上式中，$y_i$表示真实样本，$\\hat{y}_i$表示预测样本，$n_s$表示样本数量。\n",
    "使用sklearn模块实现上述算法如下所示，当使用sklearn中的网格搜索(GridSearchCV()）、交叉验证(cross_val_score())等函数时，表示Mean squared error的字符串为'neg_mean_squared_error'。"
   ]
  },
  {
   "cell_type": "code",
   "execution_count": 12,
   "metadata": {
    "ExecuteTime": {
     "end_time": "2021-07-02T07:06:39.821528Z",
     "start_time": "2021-07-02T07:06:39.815535Z"
    }
   },
   "outputs": [
    {
     "data": {
      "text/plain": [
       "0.375"
      ]
     },
     "execution_count": 12,
     "metadata": {},
     "output_type": "execute_result"
    }
   ],
   "source": [
    "metrics.mean_squared_error(y_true, y_pred)"
   ]
  },
  {
   "cell_type": "markdown",
   "metadata": {},
   "source": [
    "## Mean squared logarithmic error"
   ]
  },
  {
   "cell_type": "code",
   "execution_count": null,
   "metadata": {},
   "outputs": [],
   "source": []
  },
  {
   "cell_type": "markdown",
   "metadata": {},
   "source": [
    "## Mean absolute percentage error"
   ]
  },
  {
   "cell_type": "markdown",
   "metadata": {},
   "source": [
    "<center>$MAPE(y, \\hat{y})=\\frac{1}{n_{s}}\\sum\\limits_{i=0}^{n_{s}-1}\\frac{|y_i-\\hat{y_i}|}{max(\\epsilon, |y_i|)}$</center>"
   ]
  },
  {
   "cell_type": "markdown",
   "metadata": {},
   "source": []
  },
  {
   "cell_type": "markdown",
   "metadata": {},
   "source": [
    "## Median absolute error"
   ]
  },
  {
   "cell_type": "markdown",
   "metadata": {},
   "source": [
    "<center>$MedAE(y,\\hat{y})=median(|y_1-\\hat{y_1}|,...,|y_n-\\hat{y_n}|)$</center>"
   ]
  },
  {
   "cell_type": "code",
   "execution_count": null,
   "metadata": {},
   "outputs": [],
   "source": []
  },
  {
   "cell_type": "markdown",
   "metadata": {},
   "source": [
    "## $R^2$score"
   ]
  },
  {
   "cell_type": "markdown",
   "metadata": {},
   "source": [
    "<center>$R^2(y,\\hat{y})=1-\\frac{\\sum\\limits_{i=0}^{n_{s}-1}(y_i-\\hat{y_i})^2}{\\sum\\limits_{i=0}^{n_{s}-1}(y_i-\\bar{y_i})^2}$"
   ]
  },
  {
   "cell_type": "code",
   "execution_count": null,
   "metadata": {},
   "outputs": [],
   "source": []
  },
  {
   "cell_type": "markdown",
   "metadata": {},
   "source": [
    "# 聚类模型"
   ]
  },
  {
   "cell_type": "code",
   "execution_count": null,
   "metadata": {},
   "outputs": [],
   "source": []
  }
 ],
 "metadata": {
  "kernelspec": {
   "display_name": "Python 3",
   "language": "python",
   "name": "python3"
  },
  "language_info": {
   "codemirror_mode": {
    "name": "ipython",
    "version": 3
   },
   "file_extension": ".py",
   "mimetype": "text/x-python",
   "name": "python",
   "nbconvert_exporter": "python",
   "pygments_lexer": "ipython3",
   "version": "3.8.3"
  },
  "toc": {
   "base_numbering": 1,
   "nav_menu": {},
   "number_sections": true,
   "sideBar": true,
   "skip_h1_title": false,
   "title_cell": "Table of Contents",
   "title_sidebar": "Contents",
   "toc_cell": false,
   "toc_position": {},
   "toc_section_display": true,
   "toc_window_display": true
  },
  "varInspector": {
   "cols": {
    "lenName": 16,
    "lenType": 16,
    "lenVar": 40
   },
   "kernels_config": {
    "python": {
     "delete_cmd_postfix": "",
     "delete_cmd_prefix": "del ",
     "library": "var_list.py",
     "varRefreshCmd": "print(var_dic_list())"
    },
    "r": {
     "delete_cmd_postfix": ") ",
     "delete_cmd_prefix": "rm(",
     "library": "var_list.r",
     "varRefreshCmd": "cat(var_dic_list()) "
    }
   },
   "types_to_exclude": [
    "module",
    "function",
    "builtin_function_or_method",
    "instance",
    "_Feature"
   ],
   "window_display": false
  }
 },
 "nbformat": 4,
 "nbformat_minor": 4
}
